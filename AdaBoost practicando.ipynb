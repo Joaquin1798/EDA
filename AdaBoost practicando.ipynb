{
  "nbformat": 4,
  "nbformat_minor": 0,
  "metadata": {
    "colab": {
      "provenance": []
    },
    "kernelspec": {
      "name": "python3",
      "display_name": "Python 3"
    },
    "language_info": {
      "name": "python"
    }
  },
  "cells": [
    {
      "cell_type": "markdown",
      "source": [
        "https://machinelearningmastery.com/adaboost-ensemble-in-python/\n",
        "\n",
        "La biblioteca de aprendizaje automático de Python de scikit-learn proporciona una implementación de conjuntos AdaBoost para el aprendizaje automático.\n",
        "\n",
        "Boosting se refiere a una clase de algoritmos de conjuntos de aprendizaje automático donde los modelos se agregan secuencialmente y los modelos posteriores en la secuencia corrigen las predicciones realizadas por los modelos anteriores en la secuencia.\n",
        "\n",
        "AdaBoost combina las predicciones de árboles de decisión cortos de un nivel, llamados stumps de decisión, aunque también se pueden usar otros algoritmos.\n",
        "\n",
        "Los algoritmos de stump de decisión se usan ya que el algoritmo AdaBoost busca usar muchos modelos débiles y corregir sus predicciones agregando modelos débiles adicionales.\n",
        "\n",
        "El algoritmo de entrenamiento implica comenzar con un árbol de decisión, encontrar las muestras en el conjunto de datos de entrenamiento que se clasificaron incorrectamente y agregar más peso a esos ejemplos. Se entrena otro árbol con los mismos datos, aunque ahora ponderado por los errores de clasificación. Este proceso se repite hasta que se agrega el número deseado de árboles.\n",
        "\n",
        "Si un punto de datos de entrenamiento se clasifica incorrectamente, el peso de ese punto de datos de entrenamiento aumenta (boosted). Se construye un segundo clasificador utilizando los nuevos pesos, que ya no son iguales. Nuevamente, los datos de entrenamiento mal clasificados tienen sus pesos reforzados y se repite el procedimiento.\n"
      ],
      "metadata": {
        "id": "RxqLt5ilyljP"
      }
    },
    {
      "cell_type": "code",
      "execution_count": 1,
      "metadata": {
        "colab": {
          "base_uri": "https://localhost:8080/"
        },
        "id": "555cT8HKykYV",
        "outputId": "43f5b4f6-6699-4546-d3b4-9fe5cc7d37c2"
      },
      "outputs": [
        {
          "output_type": "stream",
          "name": "stdout",
          "text": [
            "1.2.2\n"
          ]
        }
      ],
      "source": [
        "# check scikit-learn version\n",
        "import sklearn\n",
        "print(sklearn.__version__)"
      ]
    },
    {
      "cell_type": "markdown",
      "source": [
        "AdaBoost se proporciona a través de las clases AdaBoostRegressor y AdaBoostClassifier.\n",
        "\n",
        "Ambos modelos funcionan de la misma manera y toman los mismos argumentos que influyen en cómo se crean los árboles de decisión.\n",
        "\n",
        "La aleatoriedad se utiliza en la construcción del modelo. Esto significa que cada vez que el algoritmo se ejecuta con los mismos datos, producirá un modelo ligeramente diferente.\n",
        "\n",
        "Cuando se utilizan algoritmos de aprendizaje automático que tienen un algoritmo de aprendizaje estocástico, es una buena práctica evaluarlos promediando su rendimiento en múltiples ejecuciones o repeticiones de validación cruzada. Al ajustar un modelo final, puede ser deseable aumentar el número de árboles hasta que la varianza del modelo se reduzca a través de evaluaciones repetidas, o ajustar múltiples modelos finales y promediar sus predicciones."
      ],
      "metadata": {
        "id": "Jw-no1bE0Uvu"
      }
    },
    {
      "cell_type": "markdown",
      "source": [
        "Primero, podemos usar la función make_classification() para crear un problema de clasificación binaria sintética con 1000 muestras y 20 features de entrada."
      ],
      "metadata": {
        "id": "SG_ByzEazD81"
      }
    },
    {
      "cell_type": "markdown",
      "source": [
        "**ADABOOST PARA CLASIFICACION**"
      ],
      "metadata": {
        "id": "3A3Fod-M0byL"
      }
    },
    {
      "cell_type": "code",
      "source": [
        "# test classification dataset\n",
        "from sklearn.datasets import make_classification\n",
        "# define dataset\n",
        "#El parámetro n_informative se refiere al número de características que influyen en la clasificación y el parámetro n_redundant indica el número de características que son redundantes\n",
        "# y no aportan información adicional. En este caso, hay 15 características informativas y 5 características redundantes.\n",
        "X, y = make_classification(n_samples=1000, n_features=20, n_informative=15, n_redundant=5, random_state=6)\n",
        "# summarize the dataset\n",
        "print(X.shape, y.shape)"
      ],
      "metadata": {
        "colab": {
          "base_uri": "https://localhost:8080/"
        },
        "id": "HT9M4KDHy5AL",
        "outputId": "26af029b-d610-4160-acde-21a93324395e"
      },
      "execution_count": 19,
      "outputs": [
        {
          "output_type": "stream",
          "name": "stdout",
          "text": [
            "(1000, 20) (1000,)\n"
          ]
        }
      ]
    },
    {
      "cell_type": "markdown",
      "source": [
        "Evaluaremos el modelo usando validación cruzada de k-fold estratificada repetida, con tres repeticiones y 10 folds. Informaremos la media y la desviación estándar de la precisión del modelo en todas las repeticiones y pliegues."
      ],
      "metadata": {
        "id": "zcCSe1SKzabv"
      }
    },
    {
      "cell_type": "code",
      "source": [
        "# evaluate adaboost algorithm for classification\n",
        "from numpy import mean\n",
        "from numpy import std\n",
        "from sklearn.datasets import make_classification\n",
        "from sklearn.model_selection import cross_val_score\n",
        "from sklearn.model_selection import RepeatedStratifiedKFold\n",
        "from sklearn.ensemble import AdaBoostClassifier\n",
        "# define dataset\n",
        "X, y = make_classification(n_samples=1000, n_features=20, n_informative=15, n_redundant=5, random_state=6)\n",
        "# define the model\n",
        "model = AdaBoostClassifier()\n",
        "# n_repeats Indica la cantidad de veces que se repetirá la validación cruzada con diferentes divisiones aleatorias del conjunto de datos.\n",
        "# La elección de pliegues en la validación cruzada implica cierto grado de aleatoriedad. Al realizar más repeticiones, se reduce el\n",
        "# impacto de esta aleatoriedad, ya que se promedian los resultados a lo largo de múltiples divisiones de los datos.\n",
        "cv = RepeatedStratifiedKFold(n_splits=10, n_repeats=3, random_state=1)\n",
        "# scoring='accuracy' Especifica la métrica de rendimiento que deseamos medir durante la validación cruzada.\n",
        "# error_score='raise': Especifica qué hacer si ocurre un error durante el ajuste del modelo en una de las divisiones de la validación cruzada.\n",
        "# en este caso, si ocurre un error, se generará una excepción (raise).\n",
        "n_scores = cross_val_score(model, X, y, scoring='accuracy', cv=cv, n_jobs=-1, error_score='raise')\n",
        "# report performance\n",
        "print(n_scores)\n",
        "print('Accuracy: %.3f (%.3f)' % (mean(n_scores), std(n_scores)))"
      ],
      "metadata": {
        "colab": {
          "base_uri": "https://localhost:8080/"
        },
        "id": "VL_jMdfCzU9y",
        "outputId": "2750a1d6-5195-44bc-d293-70ac635a255a"
      },
      "execution_count": 2,
      "outputs": [
        {
          "output_type": "stream",
          "name": "stdout",
          "text": [
            "[0.79 0.82 0.84 0.75 0.88 0.79 0.77 0.84 0.83 0.84 0.83 0.84 0.81 0.79\n",
            " 0.72 0.76 0.84 0.76 0.79 0.82 0.84 0.8  0.78 0.82 0.8  0.84 0.81 0.89\n",
            " 0.71 0.79]\n",
            "Accuracy: 0.806 (0.041)\n"
          ]
        }
      ]
    },
    {
      "cell_type": "markdown",
      "source": [
        "**Nota:** Nuestros resultados pueden variar dada la naturaleza estocástica del algoritmo o procedimiento de evaluación, o las diferencias en la precisión numérica. Consideremos ejecutar el ejemplo varias veces y comparemos el resultado promedio.\n",
        "\n",
        "En este caso, podemos ver que el conjunto AdaBoost con hiperparámetros predeterminados logra una precisión de clasificación de alrededor del 80 por ciento en este conjunto de datos de prueba."
      ],
      "metadata": {
        "id": "lCVujTNkzqLY"
      }
    },
    {
      "cell_type": "markdown",
      "source": [
        "También podemos usar el modelo AdaBoost como modelo final y hacer predicciones para la clasificación.\n",
        "\n",
        "Primero, el conjunto AdaBoost se ajusta a todos los datos disponibles, luego se puede llamar a la función predict() para hacer predicciones sobre nuevos datos.\n",
        "\n",
        "El siguiente ejemplo demuestra esto en nuestro conjunto de datos de clasificación binaria."
      ],
      "metadata": {
        "id": "mdf60rSOz6Ec"
      }
    },
    {
      "cell_type": "code",
      "source": [
        "# make predictions using adaboost for classification\n",
        "from sklearn.datasets import make_classification\n",
        "from sklearn.ensemble import AdaBoostClassifier\n",
        "# define dataset\n",
        "X, y = make_classification(n_samples=1000, n_features=20, n_informative=15, n_redundant=5, random_state=6)\n",
        "# define the model\n",
        "model = AdaBoostClassifier()\n",
        "# fit the model on the whole dataset\n",
        "model.fit(X, y)\n",
        "# make a single prediction\n",
        "row = [[-3.47224758,1.95378146,0.04875169,-0.91592588,-3.54022468,1.96405547,-7.72564954,-2.64787168,-1.81726906,-1.67104974,2.33762043,-4.30273117,0.4839841,-1.28253034,-10.6704077,-0.7641103,-3.58493721,2.07283886,0.08385173,0.91461126]]\n",
        "yhat = model.predict(row)\n",
        "print('Predicted Class: %d' % yhat[0])"
      ],
      "metadata": {
        "colab": {
          "base_uri": "https://localhost:8080/"
        },
        "id": "yy90nt9Bzoz-",
        "outputId": "9a067744-15e5-4f25-dedc-9d73cdc1d028"
      },
      "execution_count": 3,
      "outputs": [
        {
          "output_type": "stream",
          "name": "stdout",
          "text": [
            "Predicted Class: 0\n"
          ]
        }
      ]
    },
    {
      "cell_type": "markdown",
      "source": [
        "**ADABOOST PARA REGRESION:**"
      ],
      "metadata": {
        "id": "1C7wi2fL0fz8"
      }
    },
    {
      "cell_type": "markdown",
      "source": [
        "Primero, podemos usar la función make_regression() para crear un problema de regresión sintética con 1000 ejemplos y 20 características de entrada."
      ],
      "metadata": {
        "id": "n7_YHajYGwVj"
      }
    },
    {
      "cell_type": "code",
      "source": [
        "# test regression dataset\n",
        "from sklearn.datasets import make_regression\n",
        "# define dataset\n",
        "X, y = make_regression(n_samples=1000, n_features=20, n_informative=15, noise=0.1, random_state=6)\n",
        "# summarize the dataset\n",
        "print(X.shape, y.shape)"
      ],
      "metadata": {
        "colab": {
          "base_uri": "https://localhost:8080/"
        },
        "id": "6OC3O-Np0i5T",
        "outputId": "80da3701-0267-4c87-d9fb-6f11f32cba7c"
      },
      "execution_count": 4,
      "outputs": [
        {
          "output_type": "stream",
          "name": "stdout",
          "text": [
            "(1000, 20) (1000,)\n"
          ]
        }
      ]
    },
    {
      "cell_type": "markdown",
      "source": [
        "A continuación, podemos evaluar un algoritmo AdaBoost en este conjunto de datos.\n",
        "\n",
        "Como hicimos en la última sección, evaluaremos el modelo usando validación cruzada repetida de k-fold, con tres repeticiones y 10 pliegues. Informaremos el error absoluto medio (MAE) del modelo en todas las repeticiones y folds. La biblioteca scikit-learn hace que el MAE sea negativo para que se maximice en lugar de minimizarse. Esto significa que los MAE negativos más grandes son mejores y un modelo perfecto tiene un MAE de 0."
      ],
      "metadata": {
        "id": "3eQw2EvnG9gP"
      }
    },
    {
      "cell_type": "code",
      "source": [
        "# evaluate adaboost ensemble for regression\n",
        "from numpy import mean\n",
        "from numpy import std\n",
        "from sklearn.datasets import make_regression\n",
        "from sklearn.model_selection import cross_val_score\n",
        "from sklearn.model_selection import RepeatedKFold\n",
        "from sklearn.ensemble import AdaBoostRegressor\n",
        "# define dataset\n",
        "X, y = make_regression(n_samples=1000, n_features=20, n_informative=15, noise=0.1, random_state=6)\n",
        "# define el model\n",
        "model = AdaBoostRegressor()\n",
        "# Evaluar el modelo\n",
        "cv = RepeatedKFold(n_splits=10, n_repeats=3, random_state=1)\n",
        "# En scikit-learn, las métricas de evaluación están diseñadas para ser maximizadas, lo que significa que un valor más alto\n",
        "# de la métrica indica un mejor rendimiento del modelo. Por ejemplo, en el caso del coeficiente de determinación R2,\n",
        "# un valor más cercano a 1 indica un mejor ajuste del modelo.\n",
        "#  algunas métricas, como el error absoluto medio (MAE), son naturalmente métricas que se deben minimizar.\n",
        "# Un MAE más bajo indica un mejor rendimiento del modelo, ya que significa que las predicciones del modelo están más cerca de los valores reales.\n",
        "# Para adaptar estas métricas al marco de maximización de scikit-learn, se utiliza el enfoque de negación. Al tomar la métrica MAE y negarla,\n",
        "# se convierte en una métrica que se maximiza cuando el valor absoluto del error es menor, es decir, cuando el MAE es menor.\n",
        "n_scores = cross_val_score(model, X, y, scoring='neg_mean_absolute_error', cv=cv, n_jobs=-1, error_score='raise')\n",
        "# reporta performance\n",
        "print('MAE: %.3f (%.3f)' % (mean(n_scores), std(n_scores)))"
      ],
      "metadata": {
        "colab": {
          "base_uri": "https://localhost:8080/"
        },
        "id": "TCn0z-ytG2EY",
        "outputId": "4ab1a88c-ba42-4bdd-9293-827a705b2722"
      },
      "execution_count": 6,
      "outputs": [
        {
          "output_type": "stream",
          "name": "stdout",
          "text": [
            "MAE: -72.433 (4.100)\n"
          ]
        }
      ]
    },
    {
      "cell_type": "markdown",
      "source": [
        "**Nota:** Nuestros resultados pueden variar dada la naturaleza estocástica del algoritmo o procedimiento de evaluación, o las diferencias en la precisión numérica. Consideremos ejecutar el ejemplo varias veces y comparemos el resultado promedio.\n",
        "\n",
        "En este caso, podemos ver que el conjunto AdaBoost con hiperparámetros predeterminados logra un MAE de aproximadamente 72.\n",
        "\n",
        "También podemos usar el modelo AdaBoost como modelo final y hacer predicciones para la regresión.\n",
        "\n",
        "Primero, el conjunto AdaBoost se ajusta a todos los datos disponibles, luego se puede llamar a la función predict() para hacer predicciones sobre nuevos datos."
      ],
      "metadata": {
        "id": "35OqlyrLHOeX"
      }
    },
    {
      "cell_type": "code",
      "source": [
        "# adaboost ensemble for making predictions for regression\n",
        "from sklearn.datasets import make_regression\n",
        "from sklearn.ensemble import AdaBoostRegressor\n",
        "# define dataset\n",
        "X, y = make_regression(n_samples=1000, n_features=20, n_informative=15, noise=0.1, random_state=6)\n",
        "# define the model\n",
        "model = AdaBoostRegressor()\n",
        "# fit the model on the whole dataset\n",
        "model.fit(X, y)\n",
        "# make a single prediction\n",
        "row = [[1.20871625,0.88440466,-0.9030013,-0.22687731,-0.82940077,-1.14410988,1.26554256,-0.2842871,1.43929072,0.74250241,0.34035501,0.45363034,0.1778756,-1.75252881,-1.33337384,-1.50337215,-0.45099008,0.46160133,0.58385557,-1.79936198]]\n",
        "yhat = model.predict(row)\n",
        "print('Prediction: %d' % yhat[0])"
      ],
      "metadata": {
        "colab": {
          "base_uri": "https://localhost:8080/"
        },
        "id": "20flQFzMHXhP",
        "outputId": "e8a0a067-d363-4b82-bfcc-2329b367f3c5"
      },
      "execution_count": 7,
      "outputs": [
        {
          "output_type": "stream",
          "name": "stdout",
          "text": [
            "Prediction: -71\n"
          ]
        }
      ]
    },
    {
      "cell_type": "markdown",
      "source": [
        "**AdaBoost Hyperparameters:**\n",
        "\n",
        "En esta sección, analizaremos más de cerca algunos de los hiperparámetros que debe considerar ajustar para el conjunto AdaBoost y su efecto en el rendimiento del modelo.\n",
        "\n",
        "**Explorar número de árboles:**\n",
        "\n",
        "Un hiperparámetro importante para el algoritmo AdaBoost es la cantidad de árboles de decisión utilizados en el conjunto.\n",
        "\n",
        "Recuerde que cada árbol de decisión utilizado en el conjunto está diseñado para ser un aprendiz débil.\n",
        "\n",
        "Cada árbol de decisión individual, o \"stump\", es considerado un aprendiz débil. Esto significa que tiene una habilidad ligeramente mejor que la predicción aleatoria, pero no es muy efectivo por sí solo.\n",
        "\n",
        "La cantidad de árboles agregados al modelo debe ser alta para que el modelo funcione bien, a menudo cientos, si no miles.\n",
        "\n",
        "El número de árboles se puede establecer a través del argumento \"n_estimators\" y el valor predeterminado es 50.\n",
        "\n",
        "El siguiente ejemplo explora el efecto del número de árboles con valores entre 10 y 5000.\n"
      ],
      "metadata": {
        "id": "OpIg0_kDHgd2"
      }
    },
    {
      "cell_type": "code",
      "source": [
        "# explore adaboost ensemble number of trees effect on performance\n",
        "from numpy import mean\n",
        "from numpy import std\n",
        "from sklearn.datasets import make_classification\n",
        "from sklearn.model_selection import cross_val_score\n",
        "from sklearn.model_selection import RepeatedStratifiedKFold\n",
        "from sklearn.ensemble import AdaBoostClassifier\n",
        "from matplotlib import pyplot\n",
        "\n",
        "# get the dataset\n",
        "def get_dataset():\n",
        "\tX, y = make_classification(n_samples=1000, n_features=20, n_informative=15, n_redundant=5, random_state=6)\n",
        "\treturn X, y\n",
        "\n",
        "# get a list of models to evaluate\n",
        "def get_models():\n",
        "\tmodels = dict()\n",
        "\t# define number of trees to consider\n",
        "\tn_trees = [10, 50, 100]#, 500, 1000, 5000]\n",
        "\tfor n in n_trees:\n",
        "\t\tmodels[str(n)] = AdaBoostClassifier(n_estimators=n)\n",
        "\treturn models\n",
        "\n",
        "# evaluate a given model using cross-validation\n",
        "def evaluate_model(model, X, y):\n",
        "\t# define the evaluation procedure\n",
        "\tcv = RepeatedStratifiedKFold(n_splits=10, n_repeats=3, random_state=1)\n",
        "\t# evaluate the model and collect the results\n",
        "\tscores = cross_val_score(model, X, y, scoring='accuracy', cv=cv, n_jobs=-1)\n",
        "\treturn scores\n",
        "\n",
        "# define dataset\n",
        "X, y = get_dataset()\n",
        "# get the models to evaluate\n",
        "models = get_models()\n",
        "# evaluate the models and store results\n",
        "results, names = list(), list()\n",
        "for name, model in models.items():\n",
        "\t# evaluate the model\n",
        "\tscores = evaluate_model(model, X, y)\n",
        "\t# store the results\n",
        "\tresults.append(scores)\n",
        "\tnames.append(name)\n",
        "\t# summarize the performance along the way\n",
        "\tprint('Scores', scores)\n",
        "\tprint('Name', name)\n",
        "\tprint('>%s %.3f (%.3f)' % (name, mean(scores), std(scores)))\n",
        "# plot model performance for comparison\n",
        "pyplot.boxplot(results, labels=names, showmeans=True)\n",
        "pyplot.show()"
      ],
      "metadata": {
        "colab": {
          "base_uri": "https://localhost:8080/",
          "height": 701
        },
        "id": "tNn9B1YiHpmX",
        "outputId": "680911a3-b9a9-4082-9219-b2fa1c67df40"
      },
      "execution_count": 8,
      "outputs": [
        {
          "output_type": "stream",
          "name": "stdout",
          "text": [
            "Scores [0.77 0.77 0.8  0.76 0.82 0.76 0.77 0.74 0.8  0.8  0.78 0.78 0.83 0.79\n",
            " 0.75 0.79 0.82 0.77 0.76 0.75 0.73 0.73 0.75 0.74 0.71 0.85 0.82 0.81\n",
            " 0.66 0.79]\n",
            "Name 10\n",
            ">10 0.773 (0.039)\n",
            "Scores [0.79 0.82 0.84 0.75 0.88 0.79 0.77 0.84 0.83 0.84 0.83 0.84 0.81 0.79\n",
            " 0.72 0.76 0.84 0.76 0.79 0.82 0.84 0.8  0.78 0.82 0.8  0.84 0.81 0.89\n",
            " 0.71 0.79]\n",
            "Name 50\n",
            ">50 0.806 (0.041)\n",
            "Scores [0.78 0.79 0.81 0.8  0.85 0.78 0.76 0.86 0.84 0.82 0.78 0.89 0.8  0.8\n",
            " 0.78 0.78 0.83 0.75 0.8  0.8  0.81 0.75 0.8  0.82 0.76 0.83 0.79 0.83\n",
            " 0.77 0.77]\n",
            "Name 100\n",
            ">100 0.801 (0.032)\n"
          ]
        },
        {
          "output_type": "display_data",
          "data": {
            "text/plain": [
              "<Figure size 640x480 with 1 Axes>"
            ],
            "image/png": "[encoded data removed]"
          },
          "metadata": {}
        }
      ]
    },
    {
      "cell_type": "markdown",
      "source": [
        "**Nota:** Nuestros resultados pueden variar dada la naturaleza estocástica del algoritmo o procedimiento de evaluación, o las diferencias en la precisión numérica. Consideremos ejecutar el ejemplo varias veces y comparemos el resultado promedio.\n",
        "\n",
        "En este caso, podemos ver que ese rendimiento mejora en este conjunto de datos hasta unos 50 árboles y luego disminuye. Esto podría ser una señal de que el conjunto sobreajustó el conjunto de datos de entrenamiento después de agregar árboles adicionales.\n",
        "\n",
        "Se crea un diagrama de caja y bigotes para la distribución de puntuaciones de precisión para cada número configurado de árboles.\n",
        "\n",
        "Podemos ver la tendencia general del rendimiento del modelo y el tamaño del conjunto."
      ],
      "metadata": {
        "id": "O5FsN82qHzSk"
      }
    },
    {
      "cell_type": "markdown",
      "source": [
        "**Explorando weak learners:**\n",
        "\n",
        "Un árbol de decisión con un nivel se usa como aprendiz débil de forma predeterminada.\n",
        "\n",
        "Podemos hacer que los modelos utilizados en el conjunto sean menos débiles (más hábiles) aumentando la profundidad del árbol de decisión.\n",
        "\n",
        "El siguiente ejemplo explora el efecto de aumentar la profundidad del alumno débil de DecisionTreeClassifier en el conjunto de AdBoost."
      ],
      "metadata": {
        "id": "kDv-WwBzH-xk"
      }
    },
    {
      "cell_type": "code",
      "source": [
        "# explore adaboost ensemble tree depth effect on performance\n",
        "from numpy import mean\n",
        "from numpy import std\n",
        "from sklearn.datasets import make_classification\n",
        "from sklearn.model_selection import cross_val_score\n",
        "from sklearn.model_selection import RepeatedStratifiedKFold\n",
        "from sklearn.ensemble import AdaBoostClassifier\n",
        "from sklearn.tree import DecisionTreeClassifier\n",
        "from matplotlib import pyplot\n",
        "\n",
        "# get the dataset\n",
        "def get_dataset():\n",
        "\tX, y = make_classification(n_samples=1000, n_features=20, n_informative=15, n_redundant=5, random_state=6)\n",
        "\treturn X, y\n",
        "\n",
        "# get a list of models to evaluate\n",
        "def get_models():\n",
        "\tmodels = dict()\n",
        "\t# explore depths from 1 to 10\n",
        "\tfor i in range(1,11):\n",
        "\t\t# define base model\n",
        "\t\tbase = DecisionTreeClassifier(max_depth=i)\n",
        "\t\t# define ensemble model\n",
        "\t\tmodels[str(i)] = AdaBoostClassifier(base_estimator=base)\n",
        "\treturn models\n",
        "\n",
        "# evaluate a given model using cross-validation\n",
        "def evaluate_model(model, X, y):\n",
        "\t# define the evaluation procedure\n",
        "\tcv = RepeatedStratifiedKFold(n_splits=10, n_repeats=3, random_state=1)\n",
        "\t# evaluate the model and collect the results\n",
        "\tscores = cross_val_score(model, X, y, scoring='accuracy', cv=cv, n_jobs=-1)\n",
        "\treturn scores\n",
        "\n",
        "# define dataset\n",
        "X, y = get_dataset()\n",
        "# get the models to evaluate\n",
        "models = get_models()\n",
        "# evaluate the models and store results\n",
        "results, names = list(), list()\n",
        "for name, model in models.items():\n",
        "\t# evaluate the model\n",
        "\tscores = evaluate_model(model, X, y)\n",
        "\t# store the results\n",
        "\tresults.append(scores)\n",
        "\tnames.append(name)\n",
        "\t# summarize the performance along the way\n",
        "\tprint('>%s %.3f (%.3f)' % (name, mean(scores), std(scores)))\n",
        "# plot model performance for comparison\n",
        "pyplot.boxplot(results, labels=names, showmeans=True)\n",
        "pyplot.show()"
      ],
      "metadata": {
        "colab": {
          "base_uri": "https://localhost:8080/",
          "height": 610
        },
        "id": "uCwTl12pIEHW",
        "outputId": "0356e52a-ed32-4e78-d0a4-e398f31463bb"
      },
      "execution_count": 9,
      "outputs": [
        {
          "output_type": "stream",
          "name": "stdout",
          "text": [
            ">1 0.806 (0.041)\n",
            ">2 0.863 (0.028)\n",
            ">3 0.864 (0.032)\n",
            ">4 0.889 (0.033)\n",
            ">5 0.919 (0.022)\n",
            ">6 0.925 (0.027)\n",
            ">7 0.931 (0.023)\n",
            ">8 0.931 (0.022)\n",
            ">9 0.934 (0.021)\n",
            ">10 0.929 (0.025)\n"
          ]
        },
        {
          "output_type": "display_data",
          "data": {
            "text/plain": [
              "<Figure size 640x480 with 1 Axes>"
            ],
            "image/png": "[encoded data removed]"
          },
          "metadata": {}
        }
      ]
    },
    {
      "cell_type": "markdown",
      "source": [
        "**Nota:**\n",
        "\n",
        "Nuestros resultados pueden variar dada la naturaleza estocástica del algoritmo o procedimiento de evaluación, o las diferencias en la precisión numérica. Consideremos ejecutar el ejemplo varias veces y comparemos el resultado promedio.\n",
        "\n",
        "En este caso, podemos ver que a medida que aumenta la profundidad de los árboles de decisión, también aumenta el rendimiento del conjunto en este conjunto de datos.\n",
        "\n",
        "Se crea un gráfico de caja y bigotes para la distribución de puntuaciones de precisión para cada profundidad de aprendizaje débil configurada.\n",
        "\n",
        "Podemos ver la tendencia general del rendimiento del modelo y la poca profundidad de aprendizaje."
      ],
      "metadata": {
        "id": "ohbg3SHjINEq"
      }
    },
    {
      "cell_type": "markdown",
      "source": [
        "**Explorandoo learning rate:**\n",
        "\n",
        "AdaBoost también admite una tasa de aprendizaje que controla la contribución de cada modelo a la predicción del conjunto.\n",
        "\n",
        "Esto está controlado por el argumento “learning_rate” y por defecto está establecido en 1.0 o contribución completa. Los valores más pequeños o más grandes pueden ser apropiados según el número de modelos utilizados en el conjunto. Hay un equilibrio entre la contribución de los modelos y el número de árboles en el conjunto.\n",
        "\n",
        "Más árboles pueden requerir una tasa de aprendizaje menor; menos árboles pueden requerir una mayor tasa de aprendizaje. Es común utilizar valores entre 0 y 1 ya veces valores muy pequeños para evitar sobreajustes como 0,1, 0,01 o 0,001.\n",
        "\n",
        "El siguiente ejemplo explora los valores de la tasa de aprendizaje entre 0,1 y 2,0 en incrementos de 0,1."
      ],
      "metadata": {
        "id": "qzMUXZ5RIWiq"
      }
    },
    {
      "cell_type": "code",
      "source": [
        "# explore adaboost ensemble learning rate effect on performance\n",
        "from numpy import mean\n",
        "from numpy import std\n",
        "from numpy import arange\n",
        "from sklearn.datasets import make_classification\n",
        "from sklearn.model_selection import cross_val_score\n",
        "from sklearn.model_selection import RepeatedStratifiedKFold\n",
        "from sklearn.ensemble import AdaBoostClassifier\n",
        "from matplotlib import pyplot\n",
        "\n",
        "# get the dataset\n",
        "def get_dataset():\n",
        "\tX, y = make_classification(n_samples=1000, n_features=20, n_informative=15, n_redundant=5, random_state=6)\n",
        "\treturn X, y\n",
        "\n",
        "# get a list of models to evaluate\n",
        "def get_models():\n",
        "\tmodels = dict()\n",
        "\t# explore learning rates from 0.1 to 2 in 0.1 increments\n",
        "\tfor i in arange(0.1, 2.1, 0.1):\n",
        "\t\tkey = '%.3f' % i\n",
        "\t\tmodels[key] = AdaBoostClassifier(learning_rate=i)\n",
        "\treturn models\n",
        "\n",
        "# evaluate a given model using cross-validation\n",
        "def evaluate_model(model, X, y):\n",
        "\t# define the evaluation procedure\n",
        "\tcv = RepeatedStratifiedKFold(n_splits=10, n_repeats=3, random_state=1)\n",
        "\t# evaluate the model and collect the results\n",
        "\tscores = cross_val_score(model, X, y, scoring='accuracy', cv=cv, n_jobs=-1)\n",
        "\treturn scores\n",
        "\n",
        "# define dataset\n",
        "X, y = get_dataset()\n",
        "# get the models to evaluate\n",
        "models = get_models()\n",
        "# evaluate the models and store results\n",
        "results, names = list(), list()\n",
        "for name, model in models.items():\n",
        "\t# evaluate the model\n",
        "\tscores = evaluate_model(model, X, y)\n",
        "\t# store the results\n",
        "\tresults.append(scores)\n",
        "\tnames.append(name)\n",
        "\t# summarize the performance along the way\n",
        "\tprint('>%s %.3f (%.3f)' % (name, mean(scores), std(scores)))\n",
        "# plot model performance for comparison\n",
        "pyplot.boxplot(results, labels=names, showmeans=True)\n",
        "pyplot.xticks(rotation=45)\n",
        "pyplot.show()"
      ],
      "metadata": {
        "colab": {
          "base_uri": "https://localhost:8080/",
          "height": 812
        },
        "id": "BjHUwzAnIc4n",
        "outputId": "3e5d546d-e8ac-49cc-fd9f-1522b94d5c10"
      },
      "execution_count": 10,
      "outputs": [
        {
          "output_type": "stream",
          "name": "stdout",
          "text": [
            ">0.100 0.767 (0.049)\n",
            ">0.200 0.786 (0.042)\n",
            ">0.300 0.802 (0.040)\n",
            ">0.400 0.798 (0.037)\n",
            ">0.500 0.805 (0.042)\n",
            ">0.600 0.795 (0.031)\n",
            ">0.700 0.799 (0.035)\n",
            ">0.800 0.801 (0.033)\n",
            ">0.900 0.805 (0.032)\n",
            ">1.000 0.806 (0.041)\n",
            ">1.100 0.801 (0.037)\n",
            ">1.200 0.800 (0.030)\n",
            ">1.300 0.799 (0.041)\n",
            ">1.400 0.793 (0.041)\n",
            ">1.500 0.790 (0.040)\n",
            ">1.600 0.775 (0.034)\n",
            ">1.700 0.767 (0.054)\n",
            ">1.800 0.768 (0.040)\n",
            ">1.900 0.736 (0.047)\n",
            ">2.000 0.682 (0.048)\n"
          ]
        },
        {
          "output_type": "display_data",
          "data": {
            "text/plain": [
              "<Figure size 640x480 with 1 Axes>"
            ],
            "image/png": "[encoded data removed]"
          },
          "metadata": {}
        }
      ]
    },
    {
      "cell_type": "markdown",
      "source": [
        "**Nota:**\n",
        "\n",
        "Nuestros resultados pueden variar dada la naturaleza estocástica del algoritmo o procedimiento de evaluación, o las diferencias en la precisión numérica. Consideremos ejecutar el ejemplo varias veces y comparemos el resultado promedio.\n",
        "\n",
        "En este caso, podemos ver valores similares entre 0,5 y 1,0 y una disminución en el rendimiento del modelo después de eso.\n",
        "\n",
        "Se crea un gráfico de caja y bigotes para la distribución de puntuaciones de precisión para cada tasa de aprendizaje configurada.\n",
        "\n",
        "Podemos ver la tendencia general de disminución del rendimiento del modelo con una tasa de aprendizaje superior a 1,0 en este conjunto de datos."
      ],
      "metadata": {
        "id": "kJ7TBrd8In0q"
      }
    },
    {
      "cell_type": "markdown",
      "source": [
        "**Explorando algoritmo alternativo:**\n",
        "\n",
        "El algoritmo predeterminado utilizado en el conjunto es un árbol de decisión, aunque se pueden utilizar otros algoritmos.\n",
        "\n",
        "La intención es utilizar modelos muy simples, llamados aprendices débiles. Además, la implementación de scikit-learn requiere que todos los modelos utilizados también admitan muestras ponderadas, ya que son la forma en que se crea el conjunto ajustando modelos basados ​en una versión ponderada del conjunto de datos de entrenamiento.\n",
        "\n",
        "El modelo base se puede especificar a través del argumento \"base_estimator\". El modelo base también debe soportar la predicción de probabilidades o puntajes similares a la probabilidad en el caso de la clasificación. Si el modelo especificado no admite un conjunto de datos de entrenamiento ponderado, verá un mensaje de error como el siguiente:\n",
        "\n",
        "ValueError: KNeighborsClassifier no admite sample_weight.\n",
        "\n",
        "En AdaBoost, el algoritmo asigna pesos iniciales iguales a todas las muestras. Luego, en cada iteración, ajusta los pesos para dar más importancia a las muestras que fueron clasificadas incorrectamente por los modelos anteriores. Esta asignación de pesos permite que el modelo se centre más en las muestras difíciles de clasificar, mejorando así su rendimiento general.\n",
        "\n",
        "Un ejemplo de un modelo que admite un entrenamiento ponderado es el algoritmo de regresión logística.\n",
        "\n",
        "El siguiente ejemplo muestra un algoritmo AdaBoost con un aprendiz débil LogisticRegression."
      ],
      "metadata": {
        "id": "nJkSRqhVI3yB"
      }
    },
    {
      "cell_type": "code",
      "source": [
        "# evaluate adaboost algorithm with logistic regression weak learner for classification\n",
        "from numpy import mean\n",
        "from numpy import std\n",
        "from sklearn.datasets import make_classification\n",
        "from sklearn.model_selection import cross_val_score\n",
        "from sklearn.model_selection import RepeatedStratifiedKFold\n",
        "from sklearn.ensemble import AdaBoostClassifier\n",
        "from sklearn.neighbors import KNeighborsClassifier\n",
        "from sklearn.linear_model import LogisticRegression\n",
        "# define dataset\n",
        "X, y = make_classification(n_samples=1000, n_features=20, n_informative=15, n_redundant=5, random_state=6)\n",
        "# define the model\n",
        "#model = AdaBoostClassifier(base_estimator=KNeighborsClassifier())\n",
        "model = AdaBoostClassifier(base_estimator=LogisticRegression())\n",
        "# evaluate the model\n",
        "cv = RepeatedStratifiedKFold(n_splits=10, n_repeats=3, random_state=1)\n",
        "n_scores = cross_val_score(model, X, y, scoring='accuracy', cv=cv, n_jobs=-1, error_score='raise')\n",
        "# report performance\n",
        "print('Accuracy: %.3f (%.3f)' % (mean(n_scores), std(n_scores)))"
      ],
      "metadata": {
        "colab": {
          "base_uri": "https://localhost:8080/"
        },
        "id": "Od38_2UZI7QR",
        "outputId": "8dbc64cb-290e-4201-e6eb-d78346706d05"
      },
      "execution_count": 12,
      "outputs": [
        {
          "output_type": "stream",
          "name": "stdout",
          "text": [
            "Accuracy: 0.794 (0.032)\n"
          ]
        }
      ]
    },
    {
      "cell_type": "markdown",
      "source": [
        "**Nota:** Nuestros resultados pueden variar dada la naturaleza estocástica del algoritmo o procedimiento de evaluación, o las diferencias en la precisión numérica. Consideremos ejecutar el ejemplo varias veces y comparemos el resultado promedio.\n",
        "\n",
        "En este caso, podemos ver que el conjunto AdaBoost con un modelo débil de regresión logística logra una precisión de clasificación de alrededor del 79 por ciento en este conjunto de datos de prueba."
      ],
      "metadata": {
        "id": "fz5mCr3lJDkc"
      }
    },
    {
      "cell_type": "markdown",
      "source": [
        "**Hiperparámetros de AdaBoost de búsqueda en grid:**\n",
        "\n",
        "AdaBoost puede ser un desafío para configurar como el algoritmo, ya que muchos hiperparámetros clave que influyen en el comportamiento del modelo en los datos de entrenamiento y los hiperparámetros interactúan entre sí.\n",
        "\n",
        "Como tal, es una buena práctica usar un proceso de búsqueda para descubrir una configuración de los hiperparámetros del modelo que funcione bien o mejor para un problema de modelado predictivo determinado. Los procesos de búsqueda populares incluyen una búsqueda aleatoria y una búsqueda en grid.\n",
        "\n",
        "En esta sección, veremos el grid de búsqueda de rangos comunes para los hiperparámetros clave para el algoritmo AdaBoost que puede usar como punto de partida para sus propios proyectos. Esto se puede lograr utilizando la clase GridSearchCV y especificando un diccionario que asigna los nombres de los hiperparámetros del modelo a los valores de búsqueda.\n",
        "\n",
        "En lugar de ajustar manualmente los hiperparámetros, GridSearchCV realiza una búsqueda sistemática a través de una \"cuadrícula\" de posibles combinaciones de valores de hiperparámetros. Evalúa el rendimiento del modelo para cada combinación utilizando validación cruzada y encuentra la configuración que proporciona el mejor rendimiento.\n",
        "\n",
        "Por lo tanto, GridSearchCV ayuda a automatizar el proceso de selección de hiperparámetros y permite encontrar la mejor configuración para un modelo en particular, lo que puede resultar en un modelo más preciso y generalizable.\n",
        "\n",
        "En este caso, buscaremos en el grid dos hiperparámetros clave para AdaBoost: la cantidad de árboles utilizados en el conjunto y la tasa de aprendizaje. Usaremos un rango de valores populares de buen desempeño para cada hiperparámetro.\n",
        "\n",
        "Cada combinación de configuración se evaluará mediante la validación cruzada repetida de k-fold y las configuraciones se compararán mediante la puntuación media, en este caso, la precisión de la clasificación.\n",
        "\n",
        "El ejemplo completo de búsqueda en grid de los hiperparámetros clave del algoritmo AdaBoost en nuestro conjunto de datos de clasificación sintética se enumera a continuación."
      ],
      "metadata": {
        "id": "SqKcyLomJNnT"
      }
    },
    {
      "cell_type": "code",
      "source": [
        "# example of grid searching key hyperparameters for adaboost on a classification dataset\n",
        "from sklearn.datasets import make_classification\n",
        "from sklearn.model_selection import RepeatedStratifiedKFold\n",
        "from sklearn.model_selection import GridSearchCV\n",
        "from sklearn.ensemble import AdaBoostClassifier\n",
        "# define dataset\n",
        "X, y = make_classification(n_samples=1000, n_features=20, n_informative=15, n_redundant=5, random_state=6)\n",
        "# define the model with default hyperparameters\n",
        "model = AdaBoostClassifier()\n",
        "# define the grid of values to search\n",
        "grid = dict()\n",
        "grid['n_estimators'] = [10, 50, 100, 500]\n",
        "grid['learning_rate'] = [0.0001, 0.001, 0.01, 0.1, 1.0]\n",
        "# define the evaluation procedure\n",
        "cv = RepeatedStratifiedKFold(n_splits=10, n_repeats=3, random_state=1)\n",
        "# define the grid search procedure\n",
        "grid_search = GridSearchCV(estimator=model, param_grid=grid, n_jobs=-1, cv=cv, scoring='accuracy')\n",
        "\n",
        "# execute the grid search\n",
        "grid_result = grid_search.fit(X, y)\n",
        "# summarize the best score and configuration\n",
        "print(\"Best: %f using %s\" % (grid_result.best_score_, grid_result.best_params_))\n",
        "# summarize all scores that were evaluated\n",
        "means = grid_result.cv_results_['mean_test_score']\n",
        "stds = grid_result.cv_results_['std_test_score']\n",
        "params = grid_result.cv_results_['params']\n",
        "for mean, stdev, param in zip(means, stds, params):\n",
        "    print(\"%f (%f) with: %r\" % (mean, stdev, param))"
      ],
      "metadata": {
        "colab": {
          "base_uri": "https://localhost:8080/"
        },
        "id": "dvsNJ8O3JUMR",
        "outputId": "5967b426-611c-4356-bed2-e237c8c4df92"
      },
      "execution_count": 13,
      "outputs": [
        {
          "output_type": "stream",
          "name": "stdout",
          "text": [
            "Best: 0.813667 using {'learning_rate': 0.1, 'n_estimators': 500}\n",
            "0.646333 (0.036376) with: {'learning_rate': 0.0001, 'n_estimators': 10}\n",
            "0.646667 (0.036545) with: {'learning_rate': 0.0001, 'n_estimators': 50}\n",
            "0.646667 (0.036545) with: {'learning_rate': 0.0001, 'n_estimators': 100}\n",
            "0.647000 (0.038136) with: {'learning_rate': 0.0001, 'n_estimators': 500}\n",
            "0.646667 (0.036545) with: {'learning_rate': 0.001, 'n_estimators': 10}\n",
            "0.647000 (0.038136) with: {'learning_rate': 0.001, 'n_estimators': 50}\n",
            "0.654333 (0.045511) with: {'learning_rate': 0.001, 'n_estimators': 100}\n",
            "0.672667 (0.046543) with: {'learning_rate': 0.001, 'n_estimators': 500}\n",
            "0.648333 (0.042197) with: {'learning_rate': 0.01, 'n_estimators': 10}\n",
            "0.671667 (0.045613) with: {'learning_rate': 0.01, 'n_estimators': 50}\n",
            "0.715000 (0.053213) with: {'learning_rate': 0.01, 'n_estimators': 100}\n",
            "0.767667 (0.045948) with: {'learning_rate': 0.01, 'n_estimators': 500}\n",
            "0.716667 (0.048876) with: {'learning_rate': 0.1, 'n_estimators': 10}\n",
            "0.767000 (0.049271) with: {'learning_rate': 0.1, 'n_estimators': 50}\n",
            "0.784667 (0.042874) with: {'learning_rate': 0.1, 'n_estimators': 100}\n",
            "0.813667 (0.032092) with: {'learning_rate': 0.1, 'n_estimators': 500}\n",
            "0.773333 (0.038759) with: {'learning_rate': 1.0, 'n_estimators': 10}\n",
            "0.806333 (0.040701) with: {'learning_rate': 1.0, 'n_estimators': 50}\n",
            "0.801000 (0.032491) with: {'learning_rate': 1.0, 'n_estimators': 100}\n",
            "0.792667 (0.027801) with: {'learning_rate': 1.0, 'n_estimators': 500}\n"
          ]
        }
      ]
    },
    {
      "cell_type": "markdown",
      "source": [
        "Ejecutar el ejemplo puede tomar un tiempo dependiendo de su hardware. Al final de la ejecución, se informa primero la configuración que logró la mejor puntuación, seguida de las puntuaciones de todas las demás configuraciones que se consideraron.\n",
        "\n",
        "**Nota:** Nuestros resultados pueden variar dada la naturaleza estocástica del algoritmo o procedimiento de evaluación, o las diferencias en la precisión numérica. Consideremos ejecutar el ejemplo varias veces y comparemos el resultado promedio.\n",
        "\n",
        "En este caso, podemos ver que una configuración con 500 árboles y una tasa de aprendizaje de 0,1 se desempeñó mejor con una precisión de clasificación de alrededor del 81,3 por ciento.\n",
        "\n",
        "El modelo puede funcionar incluso mejor con más árboles, como 1000 o 5000, aunque estas configuraciones no se probaron en este caso para garantizar que la búsqueda de grid se complete en un tiempo razonable."
      ],
      "metadata": {
        "id": "Kfs-tmjAJeXv"
      }
    },
    {
      "cell_type": "markdown",
      "source": [
        "**RandomizedSearchCV** selecciona aleatoriamente un subconjunto de combinaciones de hiperparámetros para evaluar, lo que puede ser más eficiente en términos de tiempo y recursos."
      ],
      "metadata": {
        "id": "Xmy6kIVAyShU"
      }
    },
    {
      "cell_type": "code",
      "source": [
        "# example of grid searching key hyperparameters for adaboost on a classification dataset\n",
        "from sklearn.datasets import make_classification\n",
        "from sklearn.model_selection import RepeatedStratifiedKFold\n",
        "from sklearn.model_selection import RandomizedSearchCV\n",
        "from scipy.stats import uniform, randint\n",
        "from sklearn.ensemble import AdaBoostClassifier\n",
        "# define dataset\n",
        "X, y = make_classification(n_samples=1000, n_features=20, n_informative=15, n_redundant=5, random_state=6)\n",
        "# define the model with default hyperparameters\n",
        "model = AdaBoostClassifier()\n",
        "\n",
        "# Define la cuadrícula de parámetros (ajústala según tus necesidades)\n",
        "param_dist = {\n",
        "    'n_estimators': randint(50, 200),\n",
        "    'learning_rate': uniform(0.01, 1.0),\n",
        "    'algorithm': ['SAMME', 'SAMME.R'],\n",
        "    'random_state': randint(1, 100)\n",
        "}\n",
        "\n",
        "# define the grid of values to search\n",
        "#grid = dict()\n",
        "#grid['n_estimators'] = [10, 50, 100, 500]\n",
        "#grid['learning_rate'] = [0.0001, 0.001, 0.01, 0.1, 1.0]\n",
        "# define the evaluation procedure\n",
        "cv = RepeatedStratifiedKFold(n_splits=10, n_repeats=3, random_state=1)\n",
        "# define the grid search procedure\n",
        "random_search = RandomizedSearchCV(\n",
        "    estimator=model,\n",
        "    param_distributions=param_dist,\n",
        "    n_iter=10,  # Número de combinaciones aleatorias a probar\n",
        "    cv=cv,\n",
        "    scoring='accuracy',\n",
        "    n_jobs=-1\n",
        ")\n",
        "\n",
        "# execute the grid search\n",
        "grid_result = random_search.fit(X, y)\n",
        "# summarize the best score and configuration\n",
        "print(\"Best: %f using %s\" % (grid_result.best_score_, grid_result.best_params_))\n",
        "# summarize all scores that were evaluated\n",
        "means = grid_result.cv_results_['mean_test_score']\n",
        "stds = grid_result.cv_results_['std_test_score']\n",
        "params = grid_result.cv_results_['params']\n",
        "for mean, stdev, param in zip(means, stds, params):\n",
        "    print(\"%f (%f) with: %r\" % (mean, stdev, param))"
      ],
      "metadata": {
        "colab": {
          "base_uri": "https://localhost:8080/"
        },
        "outputId": "4bb9d65f-08fb-4db0-ebb7-0ee695e35761",
        "id": "qpZ1qMdyts-B"
      },
      "execution_count": 14,
      "outputs": [
        {
          "output_type": "stream",
          "name": "stdout",
          "text": [
            "Best: 0.813333 using {'algorithm': 'SAMME', 'learning_rate': 0.7444230678777713, 'n_estimators': 178, 'random_state': 44}\n",
            "0.807333 (0.030869) with: {'algorithm': 'SAMME.R', 'learning_rate': 0.4867825457891144, 'n_estimators': 92, 'random_state': 50}\n",
            "0.808667 (0.035659) with: {'algorithm': 'SAMME', 'learning_rate': 0.7516616439696824, 'n_estimators': 111, 'random_state': 81}\n",
            "0.812667 (0.035207) with: {'algorithm': 'SAMME.R', 'learning_rate': 0.7286674402624628, 'n_estimators': 60, 'random_state': 33}\n",
            "0.810333 (0.035165) with: {'algorithm': 'SAMME.R', 'learning_rate': 0.5939031993842558, 'n_estimators': 175, 'random_state': 15}\n",
            "0.804333 (0.035841) with: {'algorithm': 'SAMME', 'learning_rate': 0.6439027616785017, 'n_estimators': 149, 'random_state': 61}\n",
            "0.813333 (0.036454) with: {'algorithm': 'SAMME', 'learning_rate': 0.7444230678777713, 'n_estimators': 178, 'random_state': 44}\n",
            "0.808333 (0.028176) with: {'algorithm': 'SAMME.R', 'learning_rate': 0.7163748734573245, 'n_estimators': 105, 'random_state': 91}\n",
            "0.793333 (0.034189) with: {'algorithm': 'SAMME', 'learning_rate': 0.9127780313854982, 'n_estimators': 50, 'random_state': 71}\n",
            "0.807333 (0.033658) with: {'algorithm': 'SAMME.R', 'learning_rate': 0.9664239870348894, 'n_estimators': 155, 'random_state': 58}\n",
            "0.803000 (0.038048) with: {'algorithm': 'SAMME', 'learning_rate': 0.9283332681798627, 'n_estimators': 84, 'random_state': 56}\n"
          ]
        }
      ]
    }
  ]
}